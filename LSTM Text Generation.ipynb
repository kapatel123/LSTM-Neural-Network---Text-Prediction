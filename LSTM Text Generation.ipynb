{
 "cells": [
  {
   "cell_type": "code",
   "execution_count": 25,
   "metadata": {},
   "outputs": [],
   "source": [
    "#!pip install msgpack \n",
    "import cython\n",
    "import msgpack\n",
    "import os\n",
    "import numpy as np\n",
    "import keras\n",
    "import pandas\n",
    "import tensorflow as tf\n",
    "import sys\n",
    "\n",
    "from keras.models import Sequential \n",
    "from keras.layers import Dense\n",
    "from keras.layers import Dropout\n",
    "from keras.layers import LSTM\n",
    "from keras.callbacks import ModelCheckpoint\n",
    "from keras.utils import np_utils\n",
    "from keras import backend as K\n",
    "\n",
    "#os.getcwd()"
   ]
  },
  {
   "cell_type": "code",
   "execution_count": 2,
   "metadata": {},
   "outputs": [],
   "source": [
    "# Load in Story\n",
    "storyfile = \"adventuresHF.txt\"\n",
    "raw_text = open(storyfile, encoding = \"utf8\").read()\n",
    "\n",
    "raw_text = raw_text.lower()"
   ]
  },
  {
   "cell_type": "code",
   "execution_count": 8,
   "metadata": {},
   "outputs": [
    {
     "name": "stdout",
     "output_type": "stream",
     "text": [
      "[[22. 28.]\n",
      " [49. 64.]]\n"
     ]
    }
   ],
   "source": [
    "## Check TF ##\n",
    "# with tf.device('/gpu:0'):\n",
    "#     a = tf.constant([1.0, 2.0, 3.0, 4.0, 5.0, 6.0], shape=[2, 3], name='a')\n",
    "#     b = tf.constant([1.0, 2.0, 3.0, 4.0, 5.0, 6.0], shape=[3, 2], name='b')\n",
    "#     c = tf.matmul(a, b)\n",
    "\n",
    "# with tf.Session() as sess:\n",
    "#     print (sess.run(c))"
   ]
  },
  {
   "cell_type": "code",
   "execution_count": 3,
   "metadata": {},
   "outputs": [
    {
     "name": "stdout",
     "output_type": "stream",
     "text": [
      "[[22. 28.]\n",
      " [49. 64.]]\n"
     ]
    }
   ],
   "source": [
    "## Check TF ##\n",
    "with tf.device('/gpu:0'):\n",
    "    a = tf.constant([1.0, 2.0, 3.0, 4.0, 5.0, 6.0], shape=[2, 3], name='a')\n",
    "    b = tf.constant([1.0, 2.0, 3.0, 4.0, 5.0, 6.0], shape=[3, 2], name='b')\n",
    "    c = tf.matmul(a, b)\n",
    "\n",
    "with tf.Session() as sess:\n",
    "    print (sess.run(c))"
   ]
  },
  {
   "cell_type": "code",
   "execution_count": 4,
   "metadata": {},
   "outputs": [
    {
     "name": "stdout",
     "output_type": "stream",
     "text": [
      "567146 51\n"
     ]
    }
   ],
   "source": [
    "# Convert Char to Integer \n",
    "chars = sorted(list(set(raw_text)))\n",
    "char2int = dict((c,i) for i, c in enumerate(chars))\n",
    "\n",
    "n_chars = len(raw_text)\n",
    "n_vocab = len(chars)\n",
    "print(n_chars, n_vocab)"
   ]
  },
  {
   "cell_type": "code",
   "execution_count": 35,
   "metadata": {},
   "outputs": [
    {
     "name": "stdout",
     "output_type": "stream",
     "text": [
      "Total_Patterns: 567046\n"
     ]
    }
   ],
   "source": [
    "# Structure Training Set\n",
    "seqlength = 100\n",
    "dataX = []\n",
    "dataY = []\n",
    "\n",
    "for i in range(0, n_chars - seqlength, 1):\n",
    "    seq_in = raw_text[i:i + seqlength]\n",
    "    seq_out = raw_text[i + seqlength]\n",
    "    dataX.append([char2int[char] for char in seq_in])\n",
    "    dataY.append(char2int[seq_out])\n",
    "n_patterns = len(dataX)\n",
    "print(\"Total_Patterns:\", n_patterns)"
   ]
  },
  {
   "cell_type": "code",
   "execution_count": 6,
   "metadata": {},
   "outputs": [],
   "source": [
    "# Transform X [samples, time steps, features]\n",
    "X = np.reshape(dataX, (n_patterns, seqlength, 1))\n",
    "\n",
    "# Normalize\n",
    "X = X/float(n_vocab)\n",
    "\n",
    "# OneHot Encoding\n",
    "y = np_utils.to_categorical(dataY)"
   ]
  },
  {
   "cell_type": "code",
   "execution_count": 7,
   "metadata": {},
   "outputs": [],
   "source": [
    "### LSTM Model ### --- no test set\n",
    "neurons = 256\n",
    "model = Sequential()\n",
    "model.add(LSTM(neurons, input_shape = (X.shape[1], X.shape[2])))\n",
    "model.add(Dropout(0.2))\n",
    "model.add(Dense(y.shape[1], activation = 'softmax'))\n",
    "model.compile(loss = 'categorical_crossentropy', optimizer = 'adam')"
   ]
  },
  {
   "cell_type": "code",
   "execution_count": 10,
   "metadata": {},
   "outputs": [
    {
     "name": "stdout",
     "output_type": "stream",
     "text": [
      "Epoch 1/10\n",
      "567046/567046 [==============================] - 249s 439us/step - loss: 2.5008\n",
      "Epoch 2/10\n",
      "567046/567046 [==============================] - 255s 450us/step - loss: 2.4385\n",
      "Epoch 3/10\n",
      "567046/567046 [==============================] - 215s 379us/step - loss: 2.3782s - loss: 2.\n",
      "Epoch 4/10\n",
      "567046/567046 [==============================] - 202s 356us/step - loss: 2.3252\n",
      "Epoch 5/10\n",
      "567046/567046 [==============================] - 202s 356us/step - loss: 2.2816\n",
      "Epoch 6/10\n",
      "567046/567046 [==============================] - 202s 357us/step - loss: 2.2453\n",
      "Epoch 7/10\n",
      "567046/567046 [==============================] - 207s 364us/step - loss: 2.2136\n",
      "Epoch 8/10\n",
      "567046/567046 [==============================] - 204s 360us/step - loss: 2.1847\n",
      "Epoch 9/10\n",
      "567046/567046 [==============================] - 203s 358us/step - loss: 2.1595\n",
      "Epoch 10/10\n",
      "567046/567046 [==============================] - 203s 358us/step - loss: 2.1373\n"
     ]
    },
    {
     "data": {
      "text/plain": [
       "<keras.callbacks.History at 0x13cb3706208>"
      ]
     },
     "execution_count": 10,
     "metadata": {},
     "output_type": "execute_result"
    }
   ],
   "source": [
    "### Fit Model ###\n",
    "model.fit(X, y, epochs = 10, batch_size = 512)"
   ]
  },
  {
   "cell_type": "code",
   "execution_count": 15,
   "metadata": {},
   "outputs": [],
   "source": [
    "int_to_char = dict((i,c) for i,c in enumerate(chars))"
   ]
  },
  {
   "cell_type": "code",
   "execution_count": 43,
   "metadata": {},
   "outputs": [
    {
     "name": "stdout",
     "output_type": "stream",
     "text": [
      "Seed:\n",
      "\"\n",
      "ed ano she tay and says:\n",
      "\n",
      "“why, thet sii tood ano the tame and soe then the was a lintte th toed to the ware and saed ie was a good aedins and saed in wher they was anl she taye to the whrl whsh the sioe and the wirl would be a coae and she was a lintte then the was a coas and the wirl would be a coae and she was a lintte then the was a coas and the wirl would be a coae and she was a lintte then the was a coas and the wirl would be a coae and she was a lintte then the was a coas and the wirl would be a coae and she was a lintte then the was a coas and the wirl would be a coae and she was a lintte then the was a coas and the wirl would be a coae and she was a lintte then the was a coas and the wirl would be a coae and she was a lintte then the was a coas and the wirl would be a coae and she was a lintte then the was a coas and the wirl would be a coae and she was a lintte then the was a coas and the wirl would be a coae and she was a lintte then the was a coas and the wirl would be a co\n",
      "Done.\n"
     ]
    }
   ],
   "source": [
    "start = np.random.randint(0, len(dataX)-1)\n",
    "pattern = dataX[start]\n",
    "print(\"Seed:\")\n",
    "print(\"\\\"\"), ''.join([int_to_char[value] for value in pattern]), \"\\\"\"\n",
    "# generate characters\n",
    "for i in range(1000):\n",
    "    x = np.reshape(pattern, (1, len(pattern), 1))\n",
    "    x = x / float(n_vocab)\n",
    "    prediction = model.predict(x, verbose=0)\n",
    "    index = np.argmax(prediction)\n",
    "    result = int_to_char[index]\n",
    "    seq_in = [int_to_char[value] for value in pattern]\n",
    "    sys.stdout.write(result)\n",
    "    pattern.append(index)\n",
    "    pattern = pattern[1:len(pattern)]\n",
    "print(\"\\nDone.\")"
   ]
  }
 ],
 "metadata": {
  "kernelspec": {
   "display_name": "Python 3",
   "language": "python",
   "name": "python3"
  },
  "language_info": {
   "codemirror_mode": {
    "name": "ipython",
    "version": 3
   },
   "file_extension": ".py",
   "mimetype": "text/x-python",
   "name": "python",
   "nbconvert_exporter": "python",
   "pygments_lexer": "ipython3",
   "version": "3.6.5"
  }
 },
 "nbformat": 4,
 "nbformat_minor": 2
}
